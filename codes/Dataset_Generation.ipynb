{
 "cells": [
  {
   "cell_type": "code",
   "execution_count": 1,
   "metadata": {},
   "outputs": [],
   "source": [
    "import numpy as np\n",
    "import cv2\n",
    "from PIL import Image\n",
    "import math\n",
    "import os"
   ]
  },
  {
   "cell_type": "code",
   "execution_count": 2,
   "metadata": {},
   "outputs": [],
   "source": [
    "def snipping(image_path):\n",
    "   image = cv2.imread(image_path)\n",
    "\n",
    "   # Convert the image to grayscale\n",
    "   gray = cv2.cvtColor(image, cv2.COLOR_BGR2GRAY)\n",
    "\n",
    "   # Apply thresholding to create a binary image\n",
    "   ret, thresh = cv2.threshold(gray, 127, 255, cv2.THRESH_BINARY)\n",
    "\n",
    "  # Find contours in the binary image\n",
    "   contours, hierarchy = cv2.findContours(thresh, cv2.RETR_EXTERNAL, cv2.CHAIN_APPROX_SIMPLE)\n",
    "\n",
    "   # Draw contours on the original image\n",
    "   #cv2.drawContours(image, contours, -1, (0, 255, 0), 3)\n",
    "   cnt = contours[0]\n",
    "\n",
    "   # compute the bounding rectangle of the contour\n",
    "   x,y,w,h = cv2.boundingRect(cnt)\n",
    "\n",
    "   # draw contour\n",
    "   #img = cv2.drawContours(image,[cnt],0,(0,255,255),2)\n",
    "   x=x-5\n",
    "   y=y-5\n",
    "   w=w+10\n",
    "   h=h+10\n",
    "   # draw the bounding rectangle\n",
    "   img = cv2.rectangle(image,(x,y),(x+w,y+h),(0,0,0),2)\n",
    "   cv2.waitKey(0)\n",
    "   cv2.destroyAllWindows()\n",
    "   box_image = img[y : y+h, x: x+w]\n",
    "   return box_image"
   ]
  },
  {
   "cell_type": "code",
   "execution_count": 3,
   "metadata": {},
   "outputs": [],
   "source": [
    "def output(img1,img2,img3,img4):\n",
    "  img1 = Image.fromarray(cv2.cvtColor(img1, cv2.COLOR_BGR2RGB))\n",
    "  img2 = Image.fromarray(cv2.cvtColor(img2, cv2.COLOR_BGR2RGB))\n",
    "  img3 = Image.fromarray(cv2.cvtColor(img3, cv2.COLOR_BGR2RGB))\n",
    "  img4 = Image.fromarray(cv2.cvtColor(img4, cv2.COLOR_BGR2RGB))\n",
    "  new_image = Image.new(\"RGB\", (600,600))\n",
    "  new_image.paste(img1, (150,100))\n",
    "  new_image.paste(img2, (img1.width+150,100))\n",
    "  new_image.paste(img3, (150,100+max(img1.height,img2.height)))\n",
    "  new_image.paste(img4, (150+img3.width,100+max(img1.height,img2.height)))\n",
    "  x=140\n",
    "  y=90\n",
    "  a=max(img1.height,img2.height)\n",
    "  b=max(img3.height,img4.height)\n",
    "  h1=a+b\n",
    "  w1=max(img1.width + img2.width, img3.width + img4.width)\n",
    "  h=max(h1,w1)+20\n",
    "  w=h\n",
    "  final=cv2.cvtColor(np.array(new_image), cv2.COLOR_RGB2BGR)\n",
    "  img = cv2.rectangle(final,(x,y),(x+w,y+h),(0,0,0),2)\n",
    "  box_image = img[y : y+h, x: x+w]\n",
    "  box_image = cv2.resize(box_image, (224, 224))\n",
    "  return box_image"
   ]
  },
  {
   "cell_type": "code",
   "execution_count": null,
   "metadata": {},
   "outputs": [],
   "source": [
    "input_dir = 'D:\\Rice_Image_Dataset\\Basmati'\n",
    "output_dir = 'D:\\Dataset Generated\\Basmati'\n",
    "os.makedirs(output_dir, exist_ok=True)\n",
    "\n",
    "# Iterate over the images in the input directory\n",
    "i=1\n",
    "while(i<=15000):\n",
    "    test1=snipping(\"D:\\Rice_Image_Dataset\\Basmati\\Basmati (\"+str(i)+\").jpg\") #/content/drive/MyDrive/Basmati/Basmati (1).jpg\n",
    "    test2=snipping(\"D:\\Rice_Image_Dataset\\Basmati\\Basmati (\"+str(i+1)+\").jpg\")\n",
    "    test3=snipping(\"D:\\Rice_Image_Dataset\\Basmati\\Basmati (\"+str(i+2)+\").jpg\")\n",
    "    test4=snipping(\"D:\\Rice_Image_Dataset\\Basmati\\Basmati (\"+str(i+3)+\").jpg\")\n",
    "    img6=output(test1,test2,test3,test4)\n",
    "    i=i+3\n",
    "    output_path = os.path.join(output_dir, \"basmati (\"+str(math.floor(i/4))+\").jpg\")\n",
    "    img7 = Image.fromarray(cv2.cvtColor(img6, cv2.COLOR_BGR2RGB))\n",
    "    img7.save(output_path)\n",
    "    i=i+1"
   ]
  }
 ],
 "metadata": {
  "kernelspec": {
   "display_name": "aniket_intern",
   "language": "python",
   "name": "python3"
  },
  "language_info": {
   "codemirror_mode": {
    "name": "ipython",
    "version": 3
   },
   "file_extension": ".py",
   "mimetype": "text/x-python",
   "name": "python",
   "nbconvert_exporter": "python",
   "pygments_lexer": "ipython3",
   "version": "3.10.11"
  },
  "orig_nbformat": 4
 },
 "nbformat": 4,
 "nbformat_minor": 2
}
